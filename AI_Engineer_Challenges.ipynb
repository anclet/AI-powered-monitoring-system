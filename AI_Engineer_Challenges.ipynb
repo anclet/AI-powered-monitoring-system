{
  "nbformat": 4,
  "nbformat_minor": 0,
  "metadata": {
    "colab": {
      "provenance": [],
      "gpuType": "T4"
    },
    "kernelspec": {
      "name": "python3",
      "display_name": "Python 3"
    },
    "language_info": {
      "name": "python"
    },
    "accelerator": "GPU"
  },
  "cells": [
    {
      "cell_type": "code",
      "execution_count": 1,
      "metadata": {
        "colab": {
          "base_uri": "https://localhost:8080/"
        },
        "id": "foOCASihH1Gq",
        "outputId": "8036bdb0-e13f-4b36-e22f-8a00b050359b"
      },
      "outputs": [
        {
          "output_type": "stream",
          "name": "stdout",
          "text": [
            "\u001b[?25l   \u001b[90m━━━━━━━━━━━━━━━━━━━━━━━━━━━━━━━━━━━━━━━━\u001b[0m \u001b[32m0.0/7.9 MB\u001b[0m \u001b[31m?\u001b[0m eta \u001b[36m-:--:--\u001b[0m\r\u001b[2K   \u001b[91m╸\u001b[0m\u001b[90m━━━━━━━━━━━━━━━━━━━━━━━━━━━━━━━━━━━━━━━\u001b[0m \u001b[32m0.1/7.9 MB\u001b[0m \u001b[31m3.5 MB/s\u001b[0m eta \u001b[36m0:00:03\u001b[0m\r\u001b[2K   \u001b[91m━━━━━\u001b[0m\u001b[90m╺\u001b[0m\u001b[90m━━━━━━━━━━━━━━━━━━━━━━━━━━━━━━━━━━\u001b[0m \u001b[32m1.0/7.9 MB\u001b[0m \u001b[31m15.6 MB/s\u001b[0m eta \u001b[36m0:00:01\u001b[0m\r\u001b[2K   \u001b[91m━━━━━━━━━━━━━━━━━━━━━━━━\u001b[0m\u001b[91m╸\u001b[0m\u001b[90m━━━━━━━━━━━━━━━\u001b[0m \u001b[32m4.9/7.9 MB\u001b[0m \u001b[31m46.5 MB/s\u001b[0m eta \u001b[36m0:00:01\u001b[0m\r\u001b[2K   \u001b[91m━━━━━━━━━━━━━━━━━━━━━━━━━━━━━━━━━━━━━━━\u001b[0m\u001b[91m╸\u001b[0m \u001b[32m7.9/7.9 MB\u001b[0m \u001b[31m63.4 MB/s\u001b[0m eta \u001b[36m0:00:01\u001b[0m\r\u001b[2K   \u001b[90m━━━━━━━━━━━━━━━━━━━━━━━━━━━━━━━━━━━━━━━━\u001b[0m \u001b[32m7.9/7.9 MB\u001b[0m \u001b[31m49.7 MB/s\u001b[0m eta \u001b[36m0:00:00\u001b[0m\n",
            "\u001b[?25h\u001b[?25l   \u001b[90m━━━━━━━━━━━━━━━━━━━━━━━━━━━━━━━━━━━━━━━━\u001b[0m \u001b[32m0.0/101.7 kB\u001b[0m \u001b[31m?\u001b[0m eta \u001b[36m-:--:--\u001b[0m\r\u001b[2K   \u001b[90m━━━━━━━━━━━━━━━━━━━━━━━━━━━━━━━━━━━━━━━━\u001b[0m \u001b[32m101.7/101.7 kB\u001b[0m \u001b[31m9.1 MB/s\u001b[0m eta \u001b[36m0:00:00\u001b[0m\n",
            "\u001b[?25h\u001b[?25l   \u001b[90m━━━━━━━━━━━━━━━━━━━━━━━━━━━━━━━━━━━━━━━━\u001b[0m \u001b[32m0.0/228.0 kB\u001b[0m \u001b[31m?\u001b[0m eta \u001b[36m-:--:--\u001b[0m\r\u001b[2K   \u001b[90m━━━━━━━━━━━━━━━━━━━━━━━━━━━━━━━━━━━━━━━━\u001b[0m \u001b[32m228.0/228.0 kB\u001b[0m \u001b[31m21.1 MB/s\u001b[0m eta \u001b[36m0:00:00\u001b[0m\n",
            "\u001b[?25h"
          ]
        }
      ],
      "source": [
        "!pip install dash plotly scikit-learn tensorflow --quiet"
      ]
    },
    {
      "cell_type": "code",
      "source": [
        "# Install requirements\n",
        "import numpy as np\n",
        "import pandas as pd\n",
        "from datetime import datetime\n",
        "from sklearn.preprocessing import MinMaxScaler\n",
        "from sklearn.ensemble import IsolationForest\n",
        "from tensorflow.keras.models import Sequential\n",
        "from tensorflow.keras.layers import LSTM, Dense, Dropout, BatchNormalization\n",
        "\n",
        "from tensorflow.keras.layers import MultiHeadAttention, LayerNormalization, Dropout, Dense\n",
        "from tensorflow.keras.layers import Conv1D, GlobalAveragePooling1D, Concatenate, Input\n",
        "from tensorflow.keras.models import Model\n",
        "import plotly.graph_objects as go\n",
        "from dash.dependencies import Input as DashInput, Output as DashOutput\n",
        "import dash\n",
        "from dash import dcc, html, Input, Output\n"
      ],
      "metadata": {
        "id": "nnvRLRHdIJBT"
      },
      "execution_count": 2,
      "outputs": []
    },
    {
      "cell_type": "code",
      "source": [
        "# -------------------------------\n",
        "# CONFIGURATION\n",
        "# -------------------------------\n",
        "n_locations = 5\n",
        "seq_len = 30\n",
        "future_steps = 10\n",
        "data_store = pd.DataFrame()\n",
        "model, scaler, iso_forest = None, None, None\n",
        "\n",
        "# Generate static (x, y, z) coordinates for mine sensors\n",
        "coords_df = pd.DataFrame({\n",
        "    'location_id': [f\"Loc-{i}\" for i in range(n_locations)],\n",
        "    'x': np.random.randint(0, 100, n_locations),\n",
        "    'y': np.random.randint(0, 100, n_locations),\n",
        "    'z': -np.random.randint(20, 100, n_locations)  # underground depth\n",
        "})\n"
      ],
      "metadata": {
        "id": "U1UW32NGIJFw"
      },
      "execution_count": 3,
      "outputs": []
    },
    {
      "cell_type": "code",
      "source": [
        "# -------------------------------\n",
        "# 1. Simulate Sensor Data\n",
        "# -------------------------------\n",
        "def simulate_data():\n",
        "    global data_store\n",
        "    timestamp = datetime.now()\n",
        "    records = []\n",
        "    for _, row in coords_df.iterrows():\n",
        "        records.append({\n",
        "            'timestamp': timestamp,\n",
        "            'location_id': row['location_id'],\n",
        "            'x': row['x'],\n",
        "            'y': row['y'],\n",
        "            'z': row['z'],\n",
        "            'methane': np.random.normal(0.7, 0.2),\n",
        "            'temperature': np.random.normal(28, 1),\n",
        "            'humidity': np.random.normal(65, 4),\n",
        "            'vibration': np.random.normal(0.2, 0.05),\n",
        "            'pressure': np.random.normal(1010, 15)\n",
        "        })\n",
        "    df = pd.DataFrame(records)\n",
        "    data_store = pd.concat([data_store, df], ignore_index=True)\n",
        "    data_store = data_store.groupby('location_id').tail(200).reset_index(drop=True)\n"
      ],
      "metadata": {
        "id": "x2OEy-V1IJIG"
      },
      "execution_count": 32,
      "outputs": []
    },
    {
      "cell_type": "code",
      "source": [
        "def build_robust_lstm(seq_len):\n",
        "    model = Sequential([\n",
        "        LSTM(64, return_sequences=True, activation='relu', input_shape=(seq_len, 1)),\n",
        "        BatchNormalization(),\n",
        "        Dropout(0.3),\n",
        "\n",
        "        LSTM(64, return_sequences=True, activation='relu'),\n",
        "        BatchNormalization(),\n",
        "        Dropout(0.25),\n",
        "\n",
        "        LSTM(32, activation='relu'),\n",
        "        Dropout(0.2),\n",
        "\n",
        "        Dense(64, activation='relu'),\n",
        "        Dropout(0.15),\n",
        "\n",
        "        Dense(1)\n",
        "    ])\n",
        "    model.compile(optimizer='adam', loss='mse', metrics=['mae'])\n",
        "    return model\n"
      ],
      "metadata": {
        "id": "o72G_NkedmAA"
      },
      "execution_count": 33,
      "outputs": []
    },
    {
      "cell_type": "code",
      "source": [
        "\n",
        "# -------------------------------\n",
        "# 2. Train Model\n",
        "# -------------------------------\n",
        "def train_model():\n",
        "    global model, scaler, iso_forest\n",
        "\n",
        "    df = data_store[data_store['location_id'] == coords_df['location_id'].iloc[0]].copy()\n",
        "    scaler = MinMaxScaler()\n",
        "    scaled = scaler.fit_transform(df[['methane']])\n",
        "\n",
        "    X, y = [], []\n",
        "    for i in range(len(scaled) - seq_len):\n",
        "        X.append(scaled[i:i+seq_len])\n",
        "        y.append(scaled[i+seq_len])\n",
        "\n",
        "    X = np.array(X)\n",
        "    y = np.array(y)\n",
        "\n",
        "    # Reshape X for LSTM: [samples, time_steps, features]\n",
        "    X = X.reshape((X.shape[0], X.shape[1], 1))\n",
        "\n",
        "    model = build_robust_lstm(seq_len)\n",
        "\n",
        "    # Train the model\n",
        "    model.fit(X, y, epochs=10, batch_size=32, verbose=0)\n",
        "\n",
        "    # Train Isolation Forest for anomaly detection\n",
        "    features = ['methane', 'temperature', 'humidity', 'vibration', 'pressure']\n",
        "    iso_forest = IsolationForest(contamination=0.05)\n",
        "    iso_forest.fit(df[features].values)\n",
        "\n"
      ],
      "metadata": {
        "id": "l8kgHTP4IJKN"
      },
      "execution_count": 34,
      "outputs": []
    },
    {
      "cell_type": "code",
      "source": [],
      "metadata": {
        "id": "SUqOOx4jUxTJ"
      },
      "execution_count": 6,
      "outputs": []
    },
    {
      "cell_type": "code",
      "source": [
        "# -------------------------------\n",
        "# 3. Forecast Methane (toxic gas)\n",
        "# -------------------------------\n",
        "def forecast():\n",
        "    df = data_store[data_store['location_id'] == coords_df['location_id'].iloc[0]]\n",
        "    seq = scaler.transform(df[['methane']])[-seq_len:]\n",
        "    seq = seq.reshape(1, seq_len, 1)\n",
        "    preds = []\n",
        "    for _ in range(future_steps):\n",
        "        pred = model.predict(seq, verbose=0)[0][0]\n",
        "        preds.append(pred)\n",
        "        seq = np.append(seq[:, 1:, :], [[[pred]]], axis=1)\n",
        "    return scaler.inverse_transform(np.array(preds).reshape(-1, 1)).flatten()\n"
      ],
      "metadata": {
        "id": "eyR2EVn3IJM5"
      },
      "execution_count": 35,
      "outputs": []
    },
    {
      "cell_type": "code",
      "source": [
        "# -------------------------------\n",
        "# DASH APP\n",
        "# -------------------------------\n",
        "app = dash.Dash(__name__)\n",
        "app.layout = html.Div([\n",
        "    html.H2(\" AI-Powered Mine Monitoring prototype with Dynamic 3D Sensor Locations\"),\n",
        "    dcc.Interval(id='interval', interval=3000, n_intervals=0),\n",
        "    dcc.Graph(id='graph-3d'),\n",
        "    html.Div(id='alerts', style={'color': 'red', 'whiteSpace': 'pre-line', 'marginTop': '20px'})\n",
        "])\n",
        "\n",
        "@app.callback(\n",
        "    [DashOutput('graph-3d', 'figure'), DashOutput('alerts', 'children')],\n",
        "    [DashInput('interval', 'n_intervals')]\n",
        ")\n",
        "def update_dashboard(n):\n",
        "    simulate_data()\n",
        "    if n == 2 or n % 20 == 0:\n",
        "        train_model()\n",
        "\n",
        "    preds = forecast()\n",
        "    latest = data_store.groupby('location_id').tail(1)\n",
        "\n",
        "    # Build 3D visualization\n",
        "    fig = go.Figure(go.Scatter3d(\n",
        "        x=latest['x'],\n",
        "        y=latest['y'],\n",
        "        z=latest['z'],\n",
        "        mode='markers',\n",
        "        marker=dict(\n",
        "            size=12,\n",
        "            color=latest['methane'],\n",
        "            colorscale='Reds',\n",
        "            colorbar=dict(title='Methane (%)'),\n",
        "            cmin=0,\n",
        "            cmax=1.5\n",
        "        ),\n",
        "        hovertext=[\n",
        "            f\"Sensor: {row['location_id']}<br>\"\n",
        "            f\"Coords: ({row['x']}, {row['y']}, {row['z']})<br>\"\n",
        "            f\"Methane: {row['methane']:.2f} %<br>\"\n",
        "            f\"Temp: {row['temperature']:.1f} °C<br>\"\n",
        "            f\"Humidity: {row['humidity']:.1f} %<br>\"\n",
        "            f\"Vibration: {row['vibration']:.3f}<br>\"\n",
        "            f\"Pressure: {row['pressure']:.1f} kPa\"\n",
        "            for _, row in latest.iterrows()\n",
        "        ],\n",
        "        hoverinfo='text'\n",
        "    ))\n",
        "\n",
        "    fig.update_layout(\n",
        "        title=\"3D Mine Sensor Network - Methane Risk Map\",\n",
        "        scene=dict(\n",
        "            xaxis_title='X (meters)',\n",
        "            yaxis_title='Y (meters)',\n",
        "            zaxis_title='Depth (meters)',\n",
        "            zaxis=dict(range=[-120, 0])\n",
        "        ),\n",
        "        margin=dict(l=0, r=0, t=40, b=0)\n",
        "    )\n",
        "\n",
        "    # Generate dynamic alert messages\n",
        "    alerts = []\n",
        "    affected_zones = []\n",
        "\n",
        "    for _, row in latest.iterrows():\n",
        "        loc = row['location_id']\n",
        "        x, y, z = row['x'], row['y'], row['z']\n",
        "        methane = row['methane']\n",
        "        if methane > 1.5:\n",
        "            alerts.append(\n",
        "                f\"⚠️ CRITICAL: Methane = {methane:.2f}% at {loc} (x={x}, y={y}, z={z})\"\n",
        "            )\n",
        "            affected_zones.append(f\"{loc} (x={x}, y={y}, z={z})\")\n",
        "        elif methane > 1.0:\n",
        "            alerts.append(\n",
        "                f\"⚠️ WARNING: Methane = {methane:.2f}% at {loc} (x={x}, y={y}, z={z})\"\n",
        "            )\n",
        "            affected_zones.append(f\"{loc} (x={x}, y={y}, z={z})\")\n",
        "\n",
        "    # Append a dynamic ART message if any affected\n",
        "    if alerts:\n",
        "        alerts.append(\n",
        "            \"\\n🎨 ART MESSAGE:\\n\"\n",
        "            f\"Hazardous methane detected at:\\n  - \" + \"\\n  - \".join(affected_zones) +\n",
        "            \"\\n🚨 Immediate response required for these zones!\"\n",
        "        )\n",
        "        return fig, \"\\n\".join(alerts)\n",
        "\n",
        "    return fig, \"✅ All zones are safe. No methane warnings or critical levels.\"\n"
      ],
      "metadata": {
        "id": "lmyoXMR4hUlE"
      },
      "execution_count": 36,
      "outputs": []
    },
    {
      "cell_type": "code",
      "source": [
        "simulate_data()\n",
        "simulate_data()\n",
        "app.run(debug=False)"
      ],
      "metadata": {
        "colab": {
          "base_uri": "https://localhost:8080/",
          "height": 672
        },
        "id": "Y8YiYJISIhfk",
        "outputId": "020a5e0f-9a6c-4b75-e96e-9d97522dce31"
      },
      "execution_count": 9,
      "outputs": [
        {
          "output_type": "display_data",
          "data": {
            "text/plain": [
              "<IPython.core.display.Javascript object>"
            ],
            "application/javascript": [
              "(async (port, path, width, height, cache, element) => {\n",
              "    if (!google.colab.kernel.accessAllowed && !cache) {\n",
              "      return;\n",
              "    }\n",
              "    element.appendChild(document.createTextNode(''));\n",
              "    const url = await google.colab.kernel.proxyPort(port, {cache});\n",
              "    const iframe = document.createElement('iframe');\n",
              "    iframe.src = new URL(path, url).toString();\n",
              "    iframe.height = height;\n",
              "    iframe.width = width;\n",
              "    iframe.style.border = 0;\n",
              "    iframe.allow = [\n",
              "        'accelerometer',\n",
              "        'autoplay',\n",
              "        'camera',\n",
              "        'clipboard-read',\n",
              "        'clipboard-write',\n",
              "        'gyroscope',\n",
              "        'magnetometer',\n",
              "        'microphone',\n",
              "        'serial',\n",
              "        'usb',\n",
              "        'xr-spatial-tracking',\n",
              "    ].join('; ');\n",
              "    element.appendChild(iframe);\n",
              "  })(8050, \"/\", \"100%\", 650, false, window.element)"
            ]
          },
          "metadata": {}
        }
      ]
    },
    {
      "cell_type": "code",
      "source": [],
      "metadata": {
        "id": "yU_jQuOCafdm"
      },
      "execution_count": 12,
      "outputs": []
    },
    {
      "cell_type": "code",
      "source": [],
      "metadata": {
        "id": "rOxo_kv7IhiC"
      },
      "execution_count": 18,
      "outputs": []
    },
    {
      "cell_type": "code",
      "source": [],
      "metadata": {
        "id": "ABPrjqDDadhF"
      },
      "execution_count": null,
      "outputs": []
    },
    {
      "cell_type": "code",
      "source": [],
      "metadata": {
        "id": "D6w3rz6DIJPm"
      },
      "execution_count": null,
      "outputs": []
    }
  ]
}